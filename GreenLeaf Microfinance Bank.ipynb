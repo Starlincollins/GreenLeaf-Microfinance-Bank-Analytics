{
 "cells": [
  {
   "cell_type": "code",
   "execution_count": 8,
   "id": "5dbc4836-0d6f-4d0c-9dd2-aeed36a9dfaf",
   "metadata": {},
   "outputs": [],
   "source": [
    "# Python script\n",
    "# importing libraries \n",
    "import pandas as pd\n",
    "import numpy as np\n",
    "from datetime import datetime, timedelta"
   ]
  },
  {
   "cell_type": "code",
   "execution_count": 9,
   "id": "e143c2be-1d21-43ec-9921-5fcb535bc46c",
   "metadata": {},
   "outputs": [],
   "source": [
    "# Generating a synthetic customer information dataset called customer_info\n",
    "cust= 1000000\n",
    "# setting random seed\n",
    "np.random.seed(42)\n",
    "\n",
    "customerid= [f\"CUST{str(x).zfill(3)}\" for x in range (cust)]\n",
    "age = np.random.randint(18, 60, cust)\n",
    "gender= np.random.choice(['Male', 'Female'], cust)\n",
    "date_open = [datetime (2018,1,1) + timedelta(days=np.random.randint(30, 2190)) for _ in range (cust)]\n",
    "last_active= [ date + timedelta(days= np.random.randint(30,1825)) for date in date_open]\n",
    "\n",
    "customer_info= pd.DataFrame({\n",
    "    'Customer_ID':customerid, 'Age':age, 'Gender':gender, 'Open_Date':date_open})\n",
    "                            "
   ]
  },
  {
   "cell_type": "code",
   "execution_count": 10,
   "id": "e4ea8069-23cd-4193-9dc3-e32e82d6eef7",
   "metadata": {},
   "outputs": [],
   "source": [
    "# Generating accounts dataset called accounts_info\n",
    "product_types = ['Microloan', 'Savings', 'SME Loan', 'Asset Financing', 'Agriculture Loan']\n",
    "branches = ['Lagos Central', 'Abuja Garki', 'PH Town', 'Kano Central', 'Enugu North', 'Ibadan Main','Anambra Akwa', 'Kaduna KD']\n",
    "accounts_info = pd.DataFrame({\n",
    "    'CustomerID': customerid,\n",
    "    'ProductType': np.random.choice(product_types, cust),\n",
    "    'Branch': np.random.choice(branches, cust),\n",
    "    'AccountOpenDate': date_open,\n",
    "    'ActivityScore': np.round(np.random.uniform(0, 100, cust), 2)\n",
    "    })"
   ]
  },
  {
   "cell_type": "code",
   "execution_count": 11,
   "id": "7572995e-e4da-4ee7-a838-f2745f9f017e",
   "metadata": {},
   "outputs": [],
   "source": [
    "# Transactions dataset called transactions_info\n",
    "transaction_data = []\n",
    "for cust_id in customerid:\n",
    "    num_transactions = np.random.randint(5, 31)\n",
    "    for _ in range(num_transactions):\n",
    "        txn_date = datetime(2020, 1, 1) + timedelta(days=np.random.randint(0, 2000))\n",
    "        amount = round(np.random.exponential(scale=2000), 2)\n",
    "        transaction_data.append([cust_id, txn_date, amount])\n",
    "\n",
    "transactions_info = pd.DataFrame(transaction_data, columns=[\"CustomerID\", \"TransactionDate\", \"Amount\"])\n"
   ]
  },
  {
   "cell_type": "code",
   "execution_count": null,
   "id": "fccae23d-4cab-4db5-9dc2-f98afc089ff3",
   "metadata": {},
   "outputs": [],
   "source": [
    "# Saving datasets as a CSV file\n",
    "customer_info.to_csv(\"customer_info.csv\", index=False)\n",
    "accounts_info.to_csv(\"accounts_info.csv\", index=False)\n",
    "transactions_info.to_csv(\"transactions_info.csv\", index=False)"
   ]
  },
  {
   "cell_type": "code",
   "execution_count": null,
   "id": "418b38f8-f333-4caf-81e1-d182bbb77e7a",
   "metadata": {},
   "outputs": [],
   "source": []
  }
 ],
 "metadata": {
  "kernelspec": {
   "display_name": "Python [conda env:base] *",
   "language": "python",
   "name": "conda-base-py"
  },
  "language_info": {
   "codemirror_mode": {
    "name": "ipython",
    "version": 3
   },
   "file_extension": ".py",
   "mimetype": "text/x-python",
   "name": "python",
   "nbconvert_exporter": "python",
   "pygments_lexer": "ipython3",
   "version": "3.12.7"
  }
 },
 "nbformat": 4,
 "nbformat_minor": 5
}
